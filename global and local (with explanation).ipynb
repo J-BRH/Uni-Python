{
 "cells": [
  {
   "cell_type": "code",
   "execution_count": 5,
   "metadata": {},
   "outputs": [
    {
     "name": "stdout",
     "output_type": "stream",
     "text": [
      "global: 1\n",
      "inside f(): 1\n",
      "global: 1\n",
      "inside g(): 2\n",
      "global: 1\n",
      "inside h(): 3\n",
      "global: 3\n"
     ]
    }
   ],
   "source": [
    "a=1 ## this is a GLOBAL a\n",
    "def f():\n",
    "    print(\"inside f():\", a) ##this uses the GLOBAL a as default.\n",
    "\n",
    "def g():\n",
    "    a=2 ##this is a LOCAL a, different from the GLOBAL a\n",
    "    print (\"inside g():\", a) ##this uses the LOCAL a=2.\n",
    "\n",
    "def h():\n",
    "    global a\n",
    "    a=3 ##this is another LOCAL a, different from the GLOBAL a\n",
    "    print (\"inside h():\", a) ##this uses the LOCAL a=3.\n",
    "\n",
    "##this is global scope\n",
    "print(\"global:\", a)\n",
    "f() ## we defined f() as print(\"inside f():\", a) on line 3, so its going to print here.\n",
    "print(\"global:\", a)\n",
    "g()\n",
    "print(\"global:\", a)\n",
    "h()\n",
    "print(\"global:\", a)\n",
    "\n"
   ]
  },
  {
   "cell_type": "code",
   "execution_count": null,
   "metadata": {},
   "outputs": [],
   "source": []
  }
 ],
 "metadata": {
  "kernelspec": {
   "display_name": "Python 3",
   "language": "python",
   "name": "python3"
  },
  "language_info": {
   "codemirror_mode": {
    "name": "ipython",
    "version": 3
   },
   "file_extension": ".py",
   "mimetype": "text/x-python",
   "name": "python",
   "nbconvert_exporter": "python",
   "pygments_lexer": "ipython3",
   "version": "3.12.1"
  }
 },
 "nbformat": 4,
 "nbformat_minor": 2
}
