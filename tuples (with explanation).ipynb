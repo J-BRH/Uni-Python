{
 "cells": [
  {
   "cell_type": "code",
   "execution_count": 10,
   "metadata": {},
   "outputs": [
    {
     "name": "stdout",
     "output_type": "stream",
     "text": [
      "[1, 2, 3, [4, 5, 6, [7, 8, 9]]]\n",
      "[4, 5, 6, [7, 8, 9]]\n",
      "[7, 8, 9]\n",
      "9\n"
     ]
    }
   ],
   "source": [
    "p=[1,2,3,[4,5,6,[7,8,9]]] ##this is a tuple. it's a list inside a list inside another list.\n",
    " ##0 1 2  0 1 2  0 1 2    These are the indexes for each list.\n",
    "\n",
    "p ##this is everything.\n",
    "p[3] ##this takes the index number 3 of the FIRST list --> It's the SECOND list --> It prints [4, 5, 6, [7, 8, 9]] (because the THIRD list [7, 8, 9] is inside the SECOND).\n",
    "p[3][3] ##this takes the index number 3  of the FIRST list--> It's the SECOND list, with index number 3 again --> It's the THIRD list --> It prints [7, 8, 9].\n",
    "p[3][3][2] ##this takes the index number 3 of the FIRST list--> It's the SECOND list, with index number 3 again --> It's the THIRD list, with index number 2 --> it prints [9].\n",
    "\n",
    "print(p)\n",
    "print(p[3])\n",
    "print(p[3][3])\n",
    "print(p[3][3][2])\n"
   ]
  }
 ],
 "metadata": {
  "kernelspec": {
   "display_name": "Python 3",
   "language": "python",
   "name": "python3"
  },
  "language_info": {
   "codemirror_mode": {
    "name": "ipython",
    "version": 3
   },
   "file_extension": ".py",
   "mimetype": "text/x-python",
   "name": "python",
   "nbconvert_exporter": "python",
   "pygments_lexer": "ipython3",
   "version": "3.12.1"
  }
 },
 "nbformat": 4,
 "nbformat_minor": 2
}
