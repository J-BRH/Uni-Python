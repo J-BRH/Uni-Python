{
 "cells": [
  {
   "cell_type": "code",
   "execution_count": 3,
   "metadata": {},
   "outputs": [
    {
     "name": "stdout",
     "output_type": "stream",
     "text": [
      "[4, 5, 6, 10]\n",
      "[1, 4, 5, 6, 10]\n",
      "[1, 4, 5, 854, 6, 10]\n"
     ]
    }
   ],
   "source": [
    "L=[4,5,6] ##this is a list L.\n",
    "L.append(10) ##this adds the number 10 to the list L. It will add it last because we didn't specify an index.\n",
    "print(L) ##this prints [4, 5, 6, 10]. Number 10 was added last.\n",
    "\n",
    "L.insert(0,1) ##this adds the number 1 to index 0 in the list L. Index 0 is the first index.\n",
    "print(L) ##this prints [1, 4, 5, 6, 10]. Number 1 was added to index 0.\n",
    "\n",
    "L.insert(3, 854) ##this adds the number 854 to index 3 in the list L.\n",
    "print(L) ##this prints [1, 4, 5, 854, 6, 10]."
   ]
  },
  {
   "cell_type": "code",
   "execution_count": null,
   "metadata": {},
   "outputs": [],
   "source": []
  }
 ],
 "metadata": {
  "kernelspec": {
   "display_name": "Python 3",
   "language": "python",
   "name": "python3"
  },
  "language_info": {
   "codemirror_mode": {
    "name": "ipython",
    "version": 3
   },
   "file_extension": ".py",
   "mimetype": "text/x-python",
   "name": "python",
   "nbconvert_exporter": "python",
   "pygments_lexer": "ipython3",
   "version": "3.12.1"
  }
 },
 "nbformat": 4,
 "nbformat_minor": 2
}
