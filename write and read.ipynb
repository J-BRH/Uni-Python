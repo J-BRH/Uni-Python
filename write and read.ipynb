{
 "cells": [
  {
   "cell_type": "code",
   "execution_count": 1,
   "metadata": {},
   "outputs": [
    {
     "name": "stdout",
     "output_type": "stream",
     "text": [
      "My name is Jeff\n"
     ]
    }
   ],
   "source": [
    "## this code creates a file, writes, then reads it.\n",
    "myfile=open(\"text.txt\", \"w\") ## here w mean write. By default its read.\n",
    "myfile.write(\"My name is Jeff\")\n",
    "myfile.close()\n",
    "\n",
    "myfile=open(\"Text.txt\")\n",
    "print(myfile.read())\n",
    "myfile.close()"
   ]
  }
 ],
 "metadata": {
  "kernelspec": {
   "display_name": "Python 3",
   "language": "python",
   "name": "python3"
  },
  "language_info": {
   "codemirror_mode": {
    "name": "ipython",
    "version": 3
   },
   "file_extension": ".py",
   "mimetype": "text/x-python",
   "name": "python",
   "nbconvert_exporter": "python",
   "pygments_lexer": "ipython3",
   "version": "3.12.1"
  }
 },
 "nbformat": 4,
 "nbformat_minor": 2
}
