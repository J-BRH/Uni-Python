{
 "cells": [
  {
   "cell_type": "code",
   "execution_count": 1,
   "metadata": {},
   "outputs": [
    {
     "name": "stdout",
     "output_type": "stream",
     "text": [
      "a b c d e f "
     ]
    }
   ],
   "source": [
    "## this code checks for the same characters in 2 strings\n",
    "s1=\"abcdefg\"\n",
    "s2=\"aabcddeeeefiyjnd\"\n",
    "list1=[]\n",
    "\n",
    "for i in s1:\n",
    "    for x in s2:\n",
    "        if i==x:\n",
    "         if i not in list1:\n",
    "            list1.append(i)\n",
    "            print(i, end=\" \")"
   ]
  }
 ],
 "metadata": {
  "kernelspec": {
   "display_name": "Python 3",
   "language": "python",
   "name": "python3"
  },
  "language_info": {
   "codemirror_mode": {
    "name": "ipython",
    "version": 3
   },
   "file_extension": ".py",
   "mimetype": "text/x-python",
   "name": "python",
   "nbconvert_exporter": "python",
   "pygments_lexer": "ipython3",
   "version": "3.12.1"
  }
 },
 "nbformat": 4,
 "nbformat_minor": 2
}
