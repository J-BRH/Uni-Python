{
 "cells": [
  {
   "cell_type": "code",
   "execution_count": 10,
   "metadata": {},
   "outputs": [
    {
     "name": "stdout",
     "output_type": "stream",
     "text": [
      "Alejandro takes 2 courses\n",
      "Justin takes 3 courses\n",
      "Ed takes 2 courses\n",
      "Margot takes 4 courses\n",
      "Peter takes 5 courses\n",
      "The number of students taking CompSci is 3\n"
     ]
    }
   ],
   "source": [
    "## This code uses nested loops and tuple to check for number of enrollments in courses.\n",
    "students=[(\"Alejandro\", [\"CompSci\", \"Physics\"]),\n",
    "         (\"Justin\", [\"CompSci\", \"Maths\", \"Econ\"]),\n",
    "         (\"Ed\", [\"CompSci\", \"Law\"]),\n",
    "         (\"Margot\", [\"InfSys\", \"Accounting\", \"Econ\", \"Stats\"]),\n",
    "         (\"Peter\", [\"Econ\", \"Sociology\", \"Law\", \"Stats\", \"Music\"])]\n",
    "\n",
    "for (name, subjects) in students:\n",
    "    print(name, \"takes\", len(subjects), \"courses\")\n",
    "\n",
    "counter=0\n",
    "for (name, subjects) in students:\n",
    "    for s in subjects:\n",
    "        if s==\"CompSci\":\n",
    "            counter+=1\n",
    "print(\"The number of students taking CompSci is\", counter)"
   ]
  },
  {
   "cell_type": "code",
   "execution_count": null,
   "metadata": {},
   "outputs": [],
   "source": []
  }
 ],
 "metadata": {
  "kernelspec": {
   "display_name": "Python 3",
   "language": "python",
   "name": "python3"
  },
  "language_info": {
   "codemirror_mode": {
    "name": "ipython",
    "version": 3
   },
   "file_extension": ".py",
   "mimetype": "text/x-python",
   "name": "python",
   "nbconvert_exporter": "python",
   "pygments_lexer": "ipython3",
   "version": "3.12.1"
  }
 },
 "nbformat": 4,
 "nbformat_minor": 2
}
