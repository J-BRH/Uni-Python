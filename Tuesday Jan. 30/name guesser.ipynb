{
 "cells": [
  {
   "cell_type": "code",
   "execution_count": 1,
   "metadata": {},
   "outputs": [
    {
     "name": "stdout",
     "output_type": "stream",
     "text": [
      "\n",
      "Nope, that's not it. Hint: letter 1 is T.\n",
      "Nope, that's not it. Hint: letter 2 is a.\n",
      "Nope, that's not it. Hint: letter 3 is y.\n",
      "Nope, that's not it. Hint: letter 4 is l.\n",
      "Nope, that's not it. Hint: letter 5 is o.\n",
      "Nope, that's not it. Hint: letter 6 is r.\n",
      "Too bad, you couldn't get it. The name was Taylor.\n"
     ]
    }
   ],
   "source": [
    "## this code makes you guess a name with hints\n",
    "name=(\"Taylor\")\n",
    "guess=input(\"Im thinking of a person's name, try to guess it:\")\n",
    "pos=0\n",
    "\n",
    "while guess!=name and pos<len(name):\n",
    "    print(\"\\nNope, that's not it. Hint: letter\", end=\" \")\n",
    "    print(pos+1 ,\"is\", name[pos]+\".\", end=\"\")\n",
    "    guess=input(\"Guess again: \")\n",
    "    pos=pos+1\n",
    "\n",
    "if pos==len(name) and name!=guess:\n",
    "    print(\"\\nToo bad, you couldn't get it. The name was\", name+\".\")\n",
    "else:\n",
    "    print(\"\\nGreat! you got it in\", pos+1, \"guesses!\")\n"
   ]
  },
  {
   "cell_type": "code",
   "execution_count": null,
   "metadata": {},
   "outputs": [],
   "source": []
  }
 ],
 "metadata": {
  "kernelspec": {
   "display_name": "Python 3",
   "language": "python",
   "name": "python3"
  },
  "language_info": {
   "codemirror_mode": {
    "name": "ipython",
    "version": 3
   },
   "file_extension": ".py",
   "mimetype": "text/x-python",
   "name": "python",
   "nbconvert_exporter": "python",
   "pygments_lexer": "ipython3",
   "version": "3.12.1"
  }
 },
 "nbformat": 4,
 "nbformat_minor": 2
}
