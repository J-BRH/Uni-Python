{
 "cells": [
  {
   "cell_type": "code",
   "execution_count": 1,
   "metadata": {},
   "outputs": [
    {
     "name": "stdout",
     "output_type": "stream",
     "text": [
      "['physics', 'chemistry', 1997, 2000]\n",
      "[1, 2, 3, 4, 5, 6, 7]\n",
      "list1[0]: 2000\n",
      "list2[1:5]: [1, 2, 3, 4, 5, 6, 7]\n",
      "[3, 4, 5, 6, 7]\n",
      "['chemistry', 1997, 2000]\n"
     ]
    }
   ],
   "source": [
    "list1=['physics','chemistry',1997, 2000];\n",
    "list2=[1,2,3,4,5,6,7];\n",
    "\n",
    "print(list1);\n",
    "print(list2);\n",
    "\n",
    "print(\"list1[0]:\", list1[3]);\n",
    "print(\"list2[1:5]:\", list2[0:7]);\n",
    "print(list2[2:]);\n",
    "print(list1[-3:]);\n"
   ]
  }
 ],
 "metadata": {
  "kernelspec": {
   "display_name": "Python 3",
   "language": "python",
   "name": "python3"
  },
  "language_info": {
   "codemirror_mode": {
    "name": "ipython",
    "version": 3
   },
   "file_extension": ".py",
   "mimetype": "text/x-python",
   "name": "python",
   "nbconvert_exporter": "python",
   "pygments_lexer": "ipython3",
   "version": "3.12.1"
  }
 },
 "nbformat": 4,
 "nbformat_minor": 2
}
