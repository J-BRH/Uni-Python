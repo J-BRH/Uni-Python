{
 "cells": [
  {
   "cell_type": "code",
   "execution_count": 5,
   "metadata": {},
   "outputs": [
    {
     "name": "stdout",
     "output_type": "stream",
     "text": [
      "tup1[0]: physics\n",
      "tup2[1:5]: (2, 3, 4, 5)\n"
     ]
    }
   ],
   "source": [
    "tup1=(\"physics\",\"maths\",\"english\")\n",
    "tup2=(1,2,3,4,5,6,7,8,9)\n",
    "print(\"tup1[0]:\", tup1[0])\n",
    "print(\"tup2[1:5]:\", tup2[1:5])\n"
   ]
  },
  {
   "cell_type": "code",
   "execution_count": 6,
   "metadata": {},
   "outputs": [
    {
     "name": "stdout",
     "output_type": "stream",
     "text": [
      "(12, 34, 56, 'abc', 'xyz')\n"
     ]
    }
   ],
   "source": [
    "tup3=(12,34,56);\n",
    "tup4=('abc','xyz');\n",
    "tup5=tup3+tup4;\n",
    "print(tup5);"
   ]
  }
 ],
 "metadata": {
  "kernelspec": {
   "display_name": "Python 3",
   "language": "python",
   "name": "python3"
  },
  "language_info": {
   "codemirror_mode": {
    "name": "ipython",
    "version": 3
   },
   "file_extension": ".py",
   "mimetype": "text/x-python",
   "name": "python",
   "nbconvert_exporter": "python",
   "pygments_lexer": "ipython3",
   "version": "3.12.1"
  }
 },
 "nbformat": 4,
 "nbformat_minor": 2
}
