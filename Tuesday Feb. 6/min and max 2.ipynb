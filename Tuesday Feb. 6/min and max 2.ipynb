{
 "cells": [
  {
   "cell_type": "code",
   "execution_count": 1,
   "metadata": {},
   "outputs": [
    {
     "name": "stdout",
     "output_type": "stream",
     "text": [
      "-8\n",
      "90\n"
     ]
    }
   ],
   "source": [
    "l=[1,2,3,6,-8,9,4,22,90,-6]\n",
    "\n",
    "minl=l[0]\n",
    "maxl=l[0]\n",
    "for i in range (len(l)):\n",
    "\n",
    "    if l[i]<=minl:\n",
    "        minl=l[i]\n",
    "    if l[i]>=maxl:\n",
    "        maxl=l[i]\n",
    "\n",
    "print(minl)\n",
    "print(maxl)"
   ]
  }
 ],
 "metadata": {
  "kernelspec": {
   "display_name": "Python 3",
   "language": "python",
   "name": "python3"
  },
  "language_info": {
   "codemirror_mode": {
    "name": "ipython",
    "version": 3
   },
   "file_extension": ".py",
   "mimetype": "text/x-python",
   "name": "python",
   "nbconvert_exporter": "python",
   "pygments_lexer": "ipython3",
   "version": "3.12.1"
  }
 },
 "nbformat": 4,
 "nbformat_minor": 2
}
