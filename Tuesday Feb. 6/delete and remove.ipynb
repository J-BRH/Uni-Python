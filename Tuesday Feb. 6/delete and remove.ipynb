{
 "cells": [
  {
   "cell_type": "code",
   "execution_count": 6,
   "metadata": {},
   "outputs": [
    {
     "name": "stdout",
     "output_type": "stream",
     "text": [
      "4\n",
      "[1, 2, 12, 4, 7, 9, 20, 9, 3]\n",
      "[1, 2, 12, 4, 7, 20, 9, 3]\n",
      "[1, 2, 12, 4, 7, 20, 3]\n"
     ]
    }
   ],
   "source": [
    "nums=[1,2,7,12,4,7,9,20,9,3]\n",
    "print(nums.index(4))\n",
    "\n",
    "del(nums[2]) ##del ---> deletes the INDEX number 2 from nums. on index 2 is the number 7.\n",
    "print(nums)\n",
    "\n",
    "nums.remove(9) ##remove ---> removes the NUMBER 9 directly.\n",
    "print(nums)\n",
    "nums.remove(9)\n",
    "print(nums)"
   ]
  }
 ],
 "metadata": {
  "kernelspec": {
   "display_name": "Python 3",
   "language": "python",
   "name": "python3"
  },
  "language_info": {
   "codemirror_mode": {
    "name": "ipython",
    "version": 3
   },
   "file_extension": ".py",
   "mimetype": "text/x-python",
   "name": "python",
   "nbconvert_exporter": "python",
   "pygments_lexer": "ipython3",
   "version": "3.12.1"
  }
 },
 "nbformat": 4,
 "nbformat_minor": 2
}
