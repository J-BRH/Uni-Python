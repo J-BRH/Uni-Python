{
 "cells": [
  {
   "cell_type": "code",
   "execution_count": 2,
   "metadata": {},
   "outputs": [
    {
     "name": "stdout",
     "output_type": "stream",
     "text": [
      "-6\n",
      "90\n"
     ]
    }
   ],
   "source": [
    "l=[1,2,3,6,9,4,22,90,-6]\n",
    "print(min(l))\n",
    "print(max(l))"
   ]
  },
  {
   "cell_type": "code",
   "execution_count": 1,
   "metadata": {},
   "outputs": [
    {
     "name": "stdout",
     "output_type": "stream",
     "text": [
      "-6\n"
     ]
    }
   ],
   "source": [
    "##MINIMUM\n",
    "l=[1,2,3,6,9,4,22,90,-6]\n",
    "\n",
    "x=l[0]\n",
    "for i in range(len(l)):\n",
    "    if l[i]<=x:\n",
    "        x=l[i]\n",
    "print(x)"
   ]
  },
  {
   "cell_type": "code",
   "execution_count": 2,
   "metadata": {},
   "outputs": [
    {
     "name": "stdout",
     "output_type": "stream",
     "text": [
      "90\n"
     ]
    }
   ],
   "source": [
    "##MAXIMUM\n",
    "l=[1,2,3,6,9,4,22,90,-6]\n",
    "\n",
    "x=l[0]\n",
    "for i in range(len(l)):\n",
    "    if l[i]>=x:\n",
    "        x=l[i]\n",
    "print(x)"
   ]
  }
 ],
 "metadata": {
  "kernelspec": {
   "display_name": "Python 3",
   "language": "python",
   "name": "python3"
  },
  "language_info": {
   "codemirror_mode": {
    "name": "ipython",
    "version": 3
   },
   "file_extension": ".py",
   "mimetype": "text/x-python",
   "name": "python",
   "nbconvert_exporter": "python",
   "pygments_lexer": "ipython3",
   "version": "3.12.1"
  }
 },
 "nbformat": 4,
 "nbformat_minor": 2
}
