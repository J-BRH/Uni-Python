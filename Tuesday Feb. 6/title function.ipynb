{
 "cells": [
  {
   "cell_type": "code",
   "execution_count": 1,
   "metadata": {},
   "outputs": [
    {
     "name": "stdout",
     "output_type": "stream",
     "text": [
      "Hello, Bernice!\n",
      "Hello, Aaron!\n",
      "Hello, Cody!\n"
     ]
    }
   ],
   "source": [
    "students=['bernice','aaron','cody']\n",
    "for x in students:\n",
    "    print(\"Hello, \" + x.title() + \"!\")   ##x.title---> x means the student, .title capitalizes every first letter of the name."
   ]
  }
 ],
 "metadata": {
  "kernelspec": {
   "display_name": "Python 3",
   "language": "python",
   "name": "python3"
  },
  "language_info": {
   "codemirror_mode": {
    "name": "ipython",
    "version": 3
   },
   "file_extension": ".py",
   "mimetype": "text/x-python",
   "name": "python",
   "nbconvert_exporter": "python",
   "pygments_lexer": "ipython3",
   "version": "3.12.1"
  }
 },
 "nbformat": 4,
 "nbformat_minor": 2
}
