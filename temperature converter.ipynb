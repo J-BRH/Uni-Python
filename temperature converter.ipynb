{
 "cells": [
  {
   "cell_type": "code",
   "execution_count": 12,
   "metadata": {},
   "outputs": [
    {
     "name": "stdout",
     "output_type": "stream",
     "text": [
      "34.0 in Fahrenheit is equal to 1.1111111111111112 in Celsius\n",
      "Have a Good Day!\n"
     ]
    }
   ],
   "source": [
    "## this code converts C to F and vice versa WITHOUT initial options WITHOUT rounding.\n",
    "fahtemp = float(input(\"Enter temperature in Fahrenheit: \"))\n",
    "celsius = (fahtemp - 32) * 5/9\n",
    "print(f\"{fahtemp} in Fahrenheit is equal to {celsius} in Celsius\")\n",
    "\n",
    "inverse=input(\"Would You Like The Inverse?\")\n",
    "if inverse==(\"yes\"):\n",
    "    celtemp=float(input(\"Enter Temperature in Celsius\"))\n",
    "    fahrenheit=32+9/5*(celtemp)\n",
    "    print(f\"{celtemp} in Celsius is equal to {fahrenheit} in Fahrenheit\")\n",
    "else: print(\"Have a Good Day!\")"
   ]
  },
  {
   "cell_type": "code",
   "execution_count": 1,
   "metadata": {},
   "outputs": [
    {
     "name": "stdout",
     "output_type": "stream",
     "text": [
      "57.0 in Fahrenheit is equal to 13.9 in Celsius\n"
     ]
    }
   ],
   "source": [
    "## This code converts C to F and vice versa WITH initial options WITH rounding.\n",
    "intro=input(\"Hello, Please Type The initial Temperature Scale:\")\n",
    "if intro==(\"Celsius\") or intro==(\"celsius\"):\n",
    "    chosencel=float(input(\"Type Your Celsius Temperature:\"))\n",
    "    fah=32+9/5*(chosencel)\n",
    "    print(f\"{chosencel} in Celsius is equal to {round(fah, 1)} in Fahrenheit\")\n",
    "\n",
    "elif intro==(\"Fahrenheit\") or intro==(\"fahrenheit\"):\n",
    "    chosenfah=float(input(\"Type your Fahrenheit Temperature:\"))\n",
    "    cel=(chosenfah - 32) * 5/9\n",
    "    print(f\"{chosenfah} in Fahrenheit is equal to {round(cel, 1)} in Celsius\")\n",
    "\n",
    "else: print(\"Wrong Input. Input Should Be Celsius/Fahrenheit.\") \n"
   ]
  },
  {
   "cell_type": "code",
   "execution_count": null,
   "metadata": {},
   "outputs": [],
   "source": []
  }
 ],
 "metadata": {
  "kernelspec": {
   "display_name": "Python 3",
   "language": "python",
   "name": "python3"
  },
  "language_info": {
   "codemirror_mode": {
    "name": "ipython",
    "version": 3
   },
   "file_extension": ".py",
   "mimetype": "text/x-python",
   "name": "python",
   "nbconvert_exporter": "python",
   "pygments_lexer": "ipython3",
   "version": "3.12.1"
  }
 },
 "nbformat": 4,
 "nbformat_minor": 2
}
