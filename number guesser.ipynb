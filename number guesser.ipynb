{
 "cells": [
  {
   "cell_type": "code",
   "execution_count": 4,
   "metadata": {},
   "outputs": [
    {
     "name": "stdout",
     "output_type": "stream",
     "text": [
      "500 is too high\n",
      "200 is too low\n",
      "400 is too high\n",
      "300 is too high\n",
      "250 is too low\n",
      "270 is too high\n",
      "260 is too high\n",
      "260 is too high\n",
      "255 is too low\n",
      "257 is too low\n",
      "\n",
      "\n",
      "Great, the number was 259 you got it in 10 Guesses\n"
     ]
    }
   ],
   "source": [
    "## this code makes you guess a random number\n",
    "import random \n",
    "number=random.randrange(1, 1000)\n",
    "guesses=0\n",
    "guess=int(input(\"Guess my number between 1 and 1000\"))\n",
    "\n",
    "while guess!=number:\n",
    "    guesses+=1\n",
    "    if guess>number:\n",
    "        print(guess, \"is too high\")\n",
    "    elif guess<number:\n",
    "        print(guess, \"is too low\")\n",
    "    guess=int(input(\"Guess again: \"))\n",
    "\n",
    "print(\"\\n\\nGreat, the number was\" ,number, \"you got it in\", guesses, \"Guesses\")"
   ]
  },
  {
   "cell_type": "code",
   "execution_count": null,
   "metadata": {},
   "outputs": [],
   "source": []
  }
 ],
 "metadata": {
  "kernelspec": {
   "display_name": "Python 3",
   "language": "python",
   "name": "python3"
  },
  "language_info": {
   "codemirror_mode": {
    "name": "ipython",
    "version": 3
   },
   "file_extension": ".py",
   "mimetype": "text/x-python",
   "name": "python",
   "nbconvert_exporter": "python",
   "pygments_lexer": "ipython3",
   "version": "3.12.1"
  }
 },
 "nbformat": 4,
 "nbformat_minor": 2
}
