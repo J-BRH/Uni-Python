{
 "cells": [
  {
   "cell_type": "code",
   "execution_count": 4,
   "metadata": {},
   "outputs": [
    {
     "name": "stdout",
     "output_type": "stream",
     "text": [
      "This is a Palindrome\n"
     ]
    }
   ],
   "source": [
    "## this code checks for each letter and its inverse\n",
    "s=\"racecar\"\n",
    "if s[-len(s)]==s[len(s)-1] and s[-len(s)+1]==s[len(s)-2] and s[-len(s)+2]==s[len(s)-3]:\n",
    "    print(\"This is a Palindrome\")\n",
    "else:\n",
    "    print(\"This is not a Palindrome\")"
   ]
  },
  {
   "cell_type": "code",
   "execution_count": 57,
   "metadata": {},
   "outputs": [
    {
     "name": "stdout",
     "output_type": "stream",
     "text": [
      "This is a Palindrome\n"
     ]
    }
   ],
   "source": [
    "## this code checks for the whole word reversed.\n",
    "s=\"racecar\"\n",
    "if s[::]==s[::-1]:\n",
    "    print(\"This is a Palindrome\")\n",
    "else:\n",
    "    print(\"This is not a Palindrome\")"
   ]
  }
 ],
 "metadata": {
  "kernelspec": {
   "display_name": "Python 3",
   "language": "python",
   "name": "python3"
  },
  "language_info": {
   "codemirror_mode": {
    "name": "ipython",
    "version": 3
   },
   "file_extension": ".py",
   "mimetype": "text/x-python",
   "name": "python",
   "nbconvert_exporter": "python",
   "pygments_lexer": "ipython3",
   "version": "3.12.1"
  }
 },
 "nbformat": 4,
 "nbformat_minor": 2
}
