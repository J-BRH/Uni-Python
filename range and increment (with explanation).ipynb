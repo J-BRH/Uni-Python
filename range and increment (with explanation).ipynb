{
 "cells": [
  {
   "cell_type": "code",
   "execution_count": 1,
   "metadata": {},
   "outputs": [
    {
     "name": "stdout",
     "output_type": "stream",
     "text": [
      "15\n"
     ]
    }
   ],
   "source": [
    "L=[4,5,6]\n",
    "total=0\n",
    "for i in range(len(L)): #this makes i take each value of each element in L. \n",
    "    total += L[i] ##this means that the total is equal to each element in the list L.\n",
    "    \n",
    "##In the first iteration, i is 0. total is updated by adding L[0], which is 4.\n",
    "##In the second iteration, i is 1. total is updated by adding L[1], which is 5.\n",
    "##In the third iteration, i is 2. total is updated by adding L[2], which is 6.\n",
    "\n",
    "print(total) ##this prints 15, because 4 + 5 + 6=15"
   ]
  },
  {
   "cell_type": "code",
   "execution_count": null,
   "metadata": {},
   "outputs": [],
   "source": []
  }
 ],
 "metadata": {
  "kernelspec": {
   "display_name": "Python 3",
   "language": "python",
   "name": "python3"
  },
  "language_info": {
   "codemirror_mode": {
    "name": "ipython",
    "version": 3
   },
   "file_extension": ".py",
   "mimetype": "text/x-python",
   "name": "python",
   "nbconvert_exporter": "python",
   "pygments_lexer": "ipython3",
   "version": "3.12.1"
  }
 },
 "nbformat": 4,
 "nbformat_minor": 2
}
