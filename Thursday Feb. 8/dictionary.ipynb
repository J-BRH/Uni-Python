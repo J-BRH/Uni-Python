{
 "cells": [
  {
   "cell_type": "code",
   "execution_count": 1,
   "metadata": {},
   "outputs": [
    {
     "data": {
      "text/plain": [
       "(9.01, 'A')"
      ]
     },
     "execution_count": 1,
     "metadata": {},
     "output_type": "execute_result"
    }
   ],
   "source": [
    "names=['Ana','John','Denise','Katy']\n",
    "grade=['B','A','A','A']\n",
    "course=[2.00, 6.0001, 20.002, 9.01]\n",
    "\n",
    "def get_grade(student, name_list, grade_list, course_list):\n",
    "    i=name_list.index(student)\n",
    "    grade= grade_list[i]\n",
    "    course= course_list[i]\n",
    "    return (course, grade)\n",
    "get_grade('Katy', names, grade, course)"
   ]
  }
 ],
 "metadata": {
  "kernelspec": {
   "display_name": "Python 3",
   "language": "python",
   "name": "python3"
  },
  "language_info": {
   "codemirror_mode": {
    "name": "ipython",
    "version": 3
   },
   "file_extension": ".py",
   "mimetype": "text/x-python",
   "name": "python",
   "nbconvert_exporter": "python",
   "pygments_lexer": "ipython3",
   "version": "3.12.1"
  }
 },
 "nbformat": 4,
 "nbformat_minor": 2
}
